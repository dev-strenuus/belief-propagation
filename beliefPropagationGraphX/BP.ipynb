{
 "cells": [
  {
   "cell_type": "markdown",
   "metadata": {},
   "source": [
    "For debugging"
   ]
  },
  {
   "cell_type": "code",
   "execution_count": 1,
   "metadata": {},
   "outputs": [
    {
     "data": {
      "text/plain": [
       "defined object StringAccumulatorParam\n",
       "stringAccum = \n"
      ]
     },
     "metadata": {},
     "output_type": "display_data"
    },
    {
     "data": {
      "text/plain": [
       "warning: there were two deprecation warnings; re-run with -deprecation for details\n"
      ]
     },
     "metadata": {},
     "output_type": "display_data"
    }
   ],
   "source": [
    "import org.apache.spark.AccumulatorParam\n",
    "\n",
    "object StringAccumulatorParam extends AccumulatorParam[String] {\n",
    "\n",
    "    def zero(initialValue: String): String = {\n",
    "        \"\"\n",
    "    }\n",
    "\n",
    "    def addInPlace(s1: String, s2: String): String = {\n",
    "        s\"$s1 $s2\"\n",
    "    }\n",
    "}\n",
    "\n",
    "var stringAccum = sc.accumulator(\"\")(StringAccumulatorParam)"
   ]
  },
  {
   "cell_type": "code",
   "execution_count": 2,
   "metadata": {},
   "outputs": [
    {
     "data": {
      "text/plain": [
       "withLog = true\n"
      ]
     },
     "metadata": {},
     "output_type": "display_data"
    },
    {
     "data": {
      "text/plain": [
       "true"
      ]
     },
     "execution_count": 2,
     "metadata": {},
     "output_type": "execute_result"
    }
   ],
   "source": [
    "val withLog: Boolean = true"
   ]
  },
  {
   "cell_type": "markdown",
   "metadata": {},
   "source": [
    "Importing libriaries"
   ]
  },
  {
   "cell_type": "code",
   "execution_count": 3,
   "metadata": {},
   "outputs": [],
   "source": [
    "import scala.math._\n",
    "import org.apache.spark._\n",
    "import org.apache.spark.graphx._\n",
    "import org.apache.spark.rdd.RDD"
   ]
  },
  {
   "cell_type": "markdown",
   "metadata": {},
   "source": [
    "The class Message represents the message sent between two nodes.\n",
    "- *source* is the id of the node that sends the message\n",
    "- *value* is a tuple that contains the values of the message, in the first position the value of the message when the variable is equal to zero and in the second position the value of the message when the variable is equal to one\n",
    "- *destPosInDistribution* represents the position of the variable node of the message in the adjacent list of the factor node. This is required to find a realization of the variables in the serialized representation of the potential.\n",
    "\n",
    "The class Node represents all the scope of vertex, except its id.\n",
    "- *typeOfNode* is 0 if it is a variable node and 1 if it is a factor node\n",
    "- *neighbors* is the number of the neighbors\n",
    "- *distribution* is the serialized representation of the potential of a factor node\n",
    "- *messages* is the list of the messagges collected by the node\n",
    "- *firstDestination* keep memory of the first node to which a message is already been sent."
   ]
  },
  {
   "cell_type": "code",
   "execution_count": 4,
   "metadata": {},
   "outputs": [
    {
     "data": {
      "text/plain": [
       "defined class Message\n",
       "defined class Node\n"
      ]
     },
     "metadata": {},
     "output_type": "display_data"
    }
   ],
   "source": [
    "case class Message(source: Long, value: (Double, Double), destPosInDistribution: Int)\n",
    "case class Node(typeOfNode: Int, neighbors: Int, distribution: Array[Double], messages: List[Message], firstDestination: Long)"
   ]
  },
  {
   "cell_type": "markdown",
   "metadata": {},
   "source": [
    "Management of the input reading."
   ]
  },
  {
   "cell_type": "code",
   "execution_count": 34,
   "metadata": {},
   "outputs": [
    {
     "data": {
      "text/plain": [
       "fileName = ../data/input.txt\n",
       "lines = Array(5 5, 0 1, 0.25 0.25 0.25 0.25, 1 2 3, 0.16706443914081145 0.01909307875894988 0.18138424821002386 0.1431980906921241 0.02386634844868735 0.15513126491646778 0.07159904534606205 0.2386634844868735, 2, 0.4 0.6, 3 4, 0.20 0.30 0.40 0.10, 3, 0.25 0.75)\n",
       "variablesNumber = 5\n",
       "factorsNumber = 5\n",
       "variablesNumber = 5\n",
       "factorsNumber = 5\n",
       "tempNodes = Array((0,Node(0,0,null,List(),-1)), (1,Node(0,0,null,List(),-1)), (2,Node(0,0,null,List(),-1)), (3,Node(0,0,null,List(),-1)), (4,Node(0,0,null,List(),-1)), (5,Node(1,0,[D@784b747d,List(),-1)), (6,Node(1,0,[D@603f8414,List(),-1)), (7,Node(1,0,[D@27cf18da,List(),-1)), (8,Node(1,0,[D@356a22f9,List(),-1)), (9,Node(1,0,[D@162150b5,List(),-1)))\n"
      ]
     },
     "metadata": {},
     "output_type": "display_data"
    },
    {
     "data": {
      "text/plain": [
       "tempEdge...\n"
      ]
     },
     "metadata": {},
     "output_type": "display_data"
    },
    {
     "data": {
      "text/plain": [
       "Array((0,Node(0,0,null,List(),-1)), (1,Node(0,0,null,List(),-1)), (2,Node(0,0,null,List(),-1)), (3,Node(0,0,null,List(),-1)), (4,Node(0,0,null,List(),-1)), (5,Node(1,0,[D@784b747d,List(),-1)), (6,Node(1,0,[D@603f8414,List(),-1)), (7,Node(1,0,[D@27cf18da,List(),-1)), (8,Node(1,0,[D@356a22f9,List(),-1)), (9,Node(1,0,[D@162150b5,List(),-1)))"
      ]
     },
     "execution_count": 34,
     "metadata": {},
     "output_type": "execute_result"
    }
   ],
   "source": [
    "val fileName = \"../data/input.txt\"\n",
    "var lines = sc.textFile(fileName).collect()\n",
    "var variablesNumber: Long = 0\n",
    "var factorsNumber: Long = 0\n",
    "variablesNumber = lines(0).split(\" \")(0).toLong\n",
    "factorsNumber = lines(0).split(\" \")(1).toLong\n",
    "var tempNodes: Array[(Long, Node)] = new Array[(Long, Node)]((variablesNumber+factorsNumber).toInt) // (id, (type, leaf, distribution))\n",
    "for (a <- 0 to (variablesNumber+factorsNumber - 1).toInt){\n",
    "    tempNodes(a) = (a.toLong, Node(0,0, null, List[Message](), -1))\n",
    "}\n",
    "var tempEdges: Array[Edge[(Int)]] = new Array[Edge[(Int)]](((variablesNumber+factorsNumber-1)*2).toInt)\n",
    "var cont = 0\n",
    "for (a <- 1 to lines.size-1){\n",
    "    if(a%2 == 1){\n",
    "        val factorNode = variablesNumber + ((a-1)/2).toLong\n",
    "        //Pos is the position of the variableNode in the adjacent list of the factorNode\n",
    "        var pos = 0\n",
    "        for (variableNode <- lines(a).split(\" \")){\n",
    "            tempEdges(cont) = Edge(variableNode.toLong, factorNode, pos)\n",
    "            cont = cont + 1\n",
    "            tempEdges(cont) = Edge(factorNode, variableNode.toLong, pos)\n",
    "            cont = cont + 1\n",
    "            pos = pos + 1\n",
    "        } \n",
    "    }else{\n",
    "        val distribution:  Array[Double] = lines(a).split(\" \").map(_.toDouble)\n",
    "        val factorNode = (variablesNumber + ((a-1)/2).toLong).toInt\n",
    "        tempNodes(factorNode) = (factorNode, Node(1, 0, distribution, List[Message](), -1))\n",
    "    }\n",
    "}"
   ]
  },
  {
   "cell_type": "markdown",
   "metadata": {},
   "source": [
    "Build the graph."
   ]
  },
  {
   "cell_type": "code",
   "execution_count": 35,
   "metadata": {},
   "outputs": [
    {
     "data": {
      "text/plain": [
       "nodes = ParallelCollectionRDD[58] at parallelize at <console>:46\n",
       "edges = ParallelCollectionRDD[59] at parallelize at <console>:47\n",
       "graph = org.apache.spark.graphx.impl.GraphImpl@210399da\n"
      ]
     },
     "metadata": {},
     "output_type": "display_data"
    },
    {
     "data": {
      "text/plain": [
       "org.apache.spark.graphx.impl.GraphImpl@210399da"
      ]
     },
     "execution_count": 35,
     "metadata": {},
     "output_type": "execute_result"
    }
   ],
   "source": [
    "val nodes: RDD[(VertexId, Node)] = sc.parallelize(tempNodes)\n",
    "val edges: RDD[Edge[Int]] = sc.parallelize(tempEdges)\n",
    "val graph = Graph(nodes, edges)"
   ]
  },
  {
   "cell_type": "markdown",
   "metadata": {},
   "source": [
    "Here the nodes of the graph are joined with a list of the inDegrees of the nodes in order to save the number of neighbors in the node."
   ]
  },
  {
   "cell_type": "code",
   "execution_count": 36,
   "metadata": {},
   "outputs": [
    {
     "data": {
      "text/plain": [
       "inDegrees = VertexRDDImpl[75] at RDD at VertexRDD.scala:57\n",
       "graphWithLeaves = org.apache.spark.graphx.impl.GraphImpl@767cbeeb\n"
      ]
     },
     "metadata": {},
     "output_type": "display_data"
    },
    {
     "data": {
      "text/plain": [
       "org.apache.spark.graphx.impl.GraphImpl@767cbeeb"
      ]
     },
     "execution_count": 36,
     "metadata": {},
     "output_type": "execute_result"
    }
   ],
   "source": [
    "val inDegrees: VertexRDD[Int] = graph.inDegrees\n",
    "//leaves.collect().foreach(println)\n",
    "val graphWithLeaves = graph.joinVertices(inDegrees){\n",
    " case (id, node, neighbors) =>  Node(node.typeOfNode, neighbors, node.distribution, node.messages, node.firstDestination)\n",
    "}\n",
    "//graphWithLeaves.vertices.collect().foreach(println)"
   ]
  },
  {
   "cell_type": "markdown",
   "metadata": {},
   "source": [
    "Given a potential and a list of realization of the variables it returns the value of the potential for this realization."
   ]
  },
  {
   "cell_type": "code",
   "execution_count": 37,
   "metadata": {},
   "outputs": [
    {
     "data": {
      "text/plain": [
       "getValueFromDistribution: (distribution: Array[Double], pos: Array[Int])Double\n"
      ]
     },
     "metadata": {},
     "output_type": "display_data"
    }
   ],
   "source": [
    "def getValueFromDistribution(distribution: Array[Double], pos: Array[Int]): Double = {\n",
    "    var index: Int = 0\n",
    "    var cont: Int = 1\n",
    "    for(i <- pos){\n",
    "        index = index + cont*i\n",
    "        cont = cont * 2\n",
    "    }\n",
    "    distribution(index)\n",
    "}"
   ]
  },
  {
   "cell_type": "markdown",
   "metadata": {},
   "source": [
    "Given a variable node it returns the product of all the messagges collected until now."
   ]
  },
  {
   "cell_type": "code",
   "execution_count": 38,
   "metadata": {},
   "outputs": [
    {
     "data": {
      "text/plain": [
       "computeSummationOfLogMessagesForVariableNode: (sourceNode: Node)(Double, Double)\n"
      ]
     },
     "metadata": {},
     "output_type": "display_data"
    }
   ],
   "source": [
    "def computeSummationOfLogMessagesForVariableNode(sourceNode: Node): (Double, Double) = {\n",
    "    var product: (Double, Double) = (0,0)\n",
    "    for(msg <- sourceNode.messages){\n",
    "        product = (product._1 + msg.value._1, product._2 + msg.value._2)\n",
    "    }\n",
    "    product\n",
    "}"
   ]
  },
  {
   "cell_type": "code",
   "execution_count": 39,
   "metadata": {},
   "outputs": [
    {
     "data": {
      "text/plain": [
       "computeProductOfMessagesForVariableNode: (sourceNode: Node)(Double, Double)\n"
      ]
     },
     "metadata": {},
     "output_type": "display_data"
    }
   ],
   "source": [
    "def computeProductOfMessagesForVariableNode(sourceNode: Node): (Double, Double) = {\n",
    "    if(withLog == true)\n",
    "        computeSummationOfLogMessagesForVariableNode(sourceNode)\n",
    "    else{\n",
    "        var product: (Double, Double) = (1,1)\n",
    "        for(msg <- sourceNode.messages){\n",
    "            product = (product._1*msg.value._1, product._2*msg.value._2)\n",
    "        }\n",
    "        product\n",
    "    }\n",
    "}"
   ]
  },
  {
   "cell_type": "markdown",
   "metadata": {},
   "source": [
    "Given a list of messages and node it checks if this node is the source of any of the messages."
   ]
  },
  {
   "cell_type": "code",
   "execution_count": 40,
   "metadata": {},
   "outputs": [
    {
     "data": {
      "text/plain": [
       "checkDestination: (messages: List[Message], destinationId: Long)Boolean\n"
      ]
     },
     "metadata": {},
     "output_type": "display_data"
    }
   ],
   "source": [
    "def checkDestination(messages: List[Message], destinationId: Long): Boolean = {\n",
    "    var ctrl = true\n",
    "    for(msg <- messages){\n",
    "        if(msg.source == destinationId)\n",
    "            ctrl = false\n",
    "    }\n",
    "    ctrl\n",
    "}"
   ]
  },
  {
   "cell_type": "markdown",
   "metadata": {},
   "source": [
    "It computes a message to send to a factor node by considering the special case where it is the first time that this node is ready to send a message to a neighbor."
   ]
  },
  {
   "cell_type": "code",
   "execution_count": 41,
   "metadata": {},
   "outputs": [
    {
     "data": {
      "text/plain": [
       "removeExtraMessage: (value1: Double, value2: Double)Double\n"
      ]
     },
     "metadata": {},
     "output_type": "display_data"
    }
   ],
   "source": [
    "def removeExtraMessage(value1: Double, value2: Double): Double = {\n",
    "    if(withLog == true)\n",
    "        value1-value2\n",
    "    else\n",
    "        value1/value2\n",
    "}"
   ]
  },
  {
   "cell_type": "code",
   "execution_count": 42,
   "metadata": {},
   "outputs": [
    {
     "data": {
      "text/plain": [
       "computeMessageToFactor: (sourceId: Long, sourceNode: Node, destinationId: Long, destPosInDistribution: Int)Message\n"
      ]
     },
     "metadata": {},
     "output_type": "display_data"
    }
   ],
   "source": [
    "def computeMessageToFactor(sourceId: Long, sourceNode: Node, destinationId: Long, destPosInDistribution: Int): Message = {\n",
    "    if(sourceNode.messages.size == sourceNode.neighbors - 1){\n",
    "        if(checkDestination(sourceNode.messages, destinationId))\n",
    "            Message(sourceId, computeProductOfMessagesForVariableNode(sourceNode), destPosInDistribution)\n",
    "        else\n",
    "            null\n",
    "    }else if(sourceNode.messages.size == sourceNode.neighbors){\n",
    "        val product: (Double, Double) = computeProductOfMessagesForVariableNode(sourceNode)\n",
    "        if(destinationId == sourceNode.firstDestination)\n",
    "            null\n",
    "        else{\n",
    "            var result: Message = null\n",
    "            for(msg <- sourceNode.messages){\n",
    "                if(msg.source == destinationId){\n",
    "                    result = Message(sourceId, (removeExtraMessage(product._1, msg.value._1), removeExtraMessage(product._2, msg.value._2)), destPosInDistribution)\n",
    "                }\n",
    "            }\n",
    "            result\n",
    "        }\n",
    "    }else{\n",
    "        null\n",
    "    }\n",
    "}"
   ]
  },
  {
   "cell_type": "markdown",
   "metadata": {},
   "source": [
    "This is the product term inside the computation of a message destinated to a variable node."
   ]
  },
  {
   "cell_type": "code",
   "execution_count": 43,
   "metadata": {},
   "outputs": [
    {
     "data": {
      "text/plain": [
       "computeExpSummationOfLogMessagesForFactorNode: (factorNode: Node, destinationId: Long, states: Array[Int], greatest: Double)Double\n"
      ]
     },
     "metadata": {},
     "output_type": "display_data"
    }
   ],
   "source": [
    "def computeExpSummationOfLogMessagesForFactorNode(factorNode: Node, destinationId: Long, states: Array[Int], greatest: Double): Double = {\n",
    "    var product: Double = 0\n",
    "    for(msg <- factorNode.messages){\n",
    "        if(msg.source != destinationId){\n",
    "            if(states(msg.destPosInDistribution) == 0)\n",
    "                product = product + msg.value._1\n",
    "            else\n",
    "                product = product + msg.value._2\n",
    "        }\n",
    "    }\n",
    "    exp(product - greatest)\n",
    "}"
   ]
  },
  {
   "cell_type": "code",
   "execution_count": 44,
   "metadata": {},
   "outputs": [
    {
     "data": {
      "text/plain": [
       "computeProductOfMessagesForFactorNode: (factorNode: Node, destinationId: Long, states: Array[Int], greatest: Double)Double\n"
      ]
     },
     "metadata": {},
     "output_type": "display_data"
    }
   ],
   "source": [
    "def computeProductOfMessagesForFactorNode(factorNode: Node, destinationId: Long, states: Array[Int], greatest: Double): Double = {\n",
    "    if(withLog == true){\n",
    "        computeExpSummationOfLogMessagesForFactorNode(factorNode, destinationId, states, greatest)\n",
    "    }\n",
    "    else{\n",
    "        var product: Double = 1\n",
    "        for(msg <- factorNode.messages){\n",
    "            if(msg.source != destinationId){\n",
    "                if(states(msg.destPosInDistribution) == 0)\n",
    "                    product = product * msg.value._1\n",
    "                else\n",
    "                    product = product * msg.value._2\n",
    "            }\n",
    "        }\n",
    "        product\n",
    "    }\n",
    "}"
   ]
  },
  {
   "cell_type": "markdown",
   "metadata": {},
   "source": [
    "This is the summation term inside the computation of a message destinated to a variable node."
   ]
  },
  {
   "cell_type": "code",
   "execution_count": 46,
   "metadata": {},
   "outputs": [
    {
     "data": {
      "text/plain": [
       "computeMessageToVariableSummation: (pos: Int, factorNode: Node, destinationId: Long, states: Array[Int], destPosInDistribution: Int, greatest: Double)Double\n"
      ]
     },
     "metadata": {},
     "output_type": "display_data"
    }
   ],
   "source": [
    "def computeMessageToVariableSummation(pos: Int, factorNode: Node, destinationId: Long, states: Array[Int], destPosInDistribution: Int, greatest: Double): Double = {\n",
    "    if(pos == factorNode.neighbors)\n",
    "        getValueFromDistribution(factorNode.distribution, states)*computeProductOfMessagesForFactorNode(factorNode, destinationId, states, greatest)\n",
    "    else{\n",
    "        if(pos == destPosInDistribution)\n",
    "            computeMessageToVariableSummation(pos+1, factorNode, destinationId, states, destPosInDistribution, greatest)\n",
    "        else{\n",
    "            var temp: Double = 0\n",
    "            states(pos) = 0\n",
    "            temp = temp + computeMessageToVariableSummation(pos+1, factorNode, destinationId, states, destPosInDistribution, greatest)\n",
    "            states(pos) = 1\n",
    "            temp = temp + computeMessageToVariableSummation(pos+1, factorNode, destinationId, states, destPosInDistribution, greatest)\n",
    "            states(pos) = -1\n",
    "            temp\n",
    "        }\n",
    "    }\n",
    "}"
   ]
  },
  {
   "cell_type": "markdown",
   "metadata": {},
   "source": [
    "It computes a message for a variable node for both  the realizations of the variable."
   ]
  },
  {
   "cell_type": "code",
   "execution_count": 48,
   "metadata": {},
   "outputs": [
    {
     "data": {
      "text/plain": [
       "computeMessageToVariable2: (sourceId: Long, sourceNode: Node, destinationId: Long, destPosInDistribution: Int)(Double, Double)\n"
      ]
     },
     "metadata": {},
     "output_type": "display_data"
    }
   ],
   "source": [
    "def computeMessageToVariable2(sourceId: Long, sourceNode: Node, destinationId: Long, destPosInDistribution: Int): (Double, Double) = {\n",
    "    var result: (Double, Double) = (0,0)\n",
    "    var states = Array.fill[Int](sourceNode.neighbors)(-1)\n",
    "    var greatest: Double = -1*Long.MaxValue\n",
    "    for(msg <- sourceNode.messages){\n",
    "        if(msg.source != destinationId)\n",
    "            greatest = max(max(greatest, msg.value._1), msg.value._2)\n",
    "    }\n",
    "    states(destPosInDistribution) = 0\n",
    "    result = (computeMessageToVariableSummation(0, sourceNode, destinationId, states, destPosInDistribution, greatest), 0)\n",
    "    states(destPosInDistribution) = 1\n",
    "    result = (result._1, computeMessageToVariableSummation(0, sourceNode, destinationId, states, destPosInDistribution, greatest))\n",
    "    if(withLog == true)\n",
    "        (greatest + log(result._1), greatest + log(result._2))\n",
    "    else\n",
    "        result\n",
    "}\n",
    "    \n"
   ]
  },
  {
   "cell_type": "markdown",
   "metadata": {},
   "source": [
    "It computes a message to send to a variable node by considering the special case where it is the first time that this node is ready to send a message to a neighbor."
   ]
  },
  {
   "cell_type": "code",
   "execution_count": 49,
   "metadata": {},
   "outputs": [
    {
     "data": {
      "text/plain": [
       "computeMessageToVariable: (sourceId: Long, sourceNode: Node, destinationId: Long, destPosInDistribution: Int)Message\n"
      ]
     },
     "metadata": {},
     "output_type": "display_data"
    }
   ],
   "source": [
    "def computeMessageToVariable(sourceId: Long, sourceNode: Node, destinationId: Long, destPosInDistribution: Int): Message = {\n",
    "    if(sourceNode.messages.size == sourceNode.neighbors - 1){\n",
    "        if(checkDestination(sourceNode.messages, destinationId))\n",
    "            Message(sourceId, computeMessageToVariable2(sourceId, sourceNode, destinationId, destPosInDistribution), -1)\n",
    "        else\n",
    "            null\n",
    "    }else if(sourceNode.messages.size == sourceNode.neighbors){\n",
    "        if(destinationId == sourceNode.firstDestination)\n",
    "            null\n",
    "        else{\n",
    "            //stringAccum += sourceId + \" \" + destinationId + \"\\n\"\n",
    "            Message(sourceId, computeMessageToVariable2(sourceId, sourceNode, destinationId, destPosInDistribution), -1)\n",
    "        }\n",
    "    }else{\n",
    "        null\n",
    "    }\n",
    "}"
   ]
  },
  {
   "cell_type": "markdown",
   "metadata": {},
   "source": [
    "It combines two incoming messages in the same list."
   ]
  },
  {
   "cell_type": "code",
   "execution_count": 50,
   "metadata": {},
   "outputs": [
    {
     "data": {
      "text/plain": [
       "mergeMsg: (msg1: List[Message], msg2: List[Message])List[Message]\n"
      ]
     },
     "metadata": {},
     "output_type": "display_data"
    }
   ],
   "source": [
    "def mergeMsg(msg1: List[Message], msg2: List[Message]): List[Message] = {\n",
    "    msg1:::msg2\n",
    "}"
   ]
  },
  {
   "cell_type": "code",
   "execution_count": 51,
   "metadata": {},
   "outputs": [
    {
     "data": {
      "text/plain": [
       "vprog: (vertexId: org.apache.spark.graphx.VertexId, value: Node, message: List[Message])Node\n"
      ]
     },
     "metadata": {},
     "output_type": "display_data"
    }
   ],
   "source": [
    "def vprog(vertexId: VertexId, value: Node, message: List[Message]): Node = {\n",
    "    if(message.head.source == -1){ //when receive initial message the node doesn't change\n",
    "        Node(value.typeOfNode, value.neighbors, value.distribution, value.messages, value.firstDestination)\n",
    "    }\n",
    "    else{ \n",
    "        val newMessages = value.messages:::message\n",
    "        var firstDestination: Long = value.firstDestination\n",
    "        if(newMessages.size == value.neighbors && message.size == 1)\n",
    "            firstDestination = message.head.source\n",
    "        Node(value.typeOfNode, value.neighbors, value.distribution, newMessages, firstDestination)\n",
    "    }\n",
    "}"
   ]
  },
  {
   "cell_type": "code",
   "execution_count": 52,
   "metadata": {},
   "outputs": [
    {
     "data": {
      "text/plain": [
       "sendMsg: (triplet: org.apache.spark.graphx.EdgeTriplet[Node,Int])Iterator[(org.apache.spark.graphx.VertexId, List[Message])]\n"
      ]
     },
     "metadata": {},
     "output_type": "display_data"
    }
   ],
   "source": [
    "//tofix\n",
    "def sendMsg(triplet: EdgeTriplet[Node, Int]): Iterator[(VertexId, List[Message])] = {\n",
    "    val sourceId = triplet.srcId\n",
    "    val sourceNode = triplet.srcAttr\n",
    "    val destinationId = triplet.dstId\n",
    "    if(sourceNode.messages.size == 0){\n",
    "        if(sourceNode.neighbors == 1){ //send message from the leaf\n",
    "            if(sourceNode.typeOfNode == 0){\n",
    "                if(withLog == true)\n",
    "                    Iterator((destinationId, List(Message(sourceId, (0,0), triplet.attr))))\n",
    "                else\n",
    "                    Iterator((destinationId, List(Message(sourceId, (1,1), triplet.attr))))\n",
    "            }\n",
    "            else{\n",
    "                if(withLog == true)\n",
    "                    Iterator((destinationId, List(Message(sourceId, (log(getValueFromDistribution(sourceNode.distribution, Array(0))), log(getValueFromDistribution(sourceNode.distribution, Array(1)))), -1))))\n",
    "                else\n",
    "                    Iterator((destinationId, List(Message(sourceId, (getValueFromDistribution(sourceNode.distribution, Array(0)), getValueFromDistribution(sourceNode.distribution, Array(1))), -1))))\n",
    "            }\n",
    "        }else{\n",
    "            Iterator.empty\n",
    "        }\n",
    "    }else{\n",
    "        if(sourceNode.neighbors == 1){ //a leaf should not send any message after the first superstep\n",
    "            Iterator.empty\n",
    "        }else{\n",
    "            if(sourceNode.typeOfNode == 0){\n",
    "                val msg = computeMessageToFactor(sourceId, sourceNode, destinationId, triplet.attr)\n",
    "                //stringAccum += sourceId + \" \" + destinationId + \" \" + msg + \"\\n\"\n",
    "                if(msg == null) // GraphX examine all the adjacent edges to send messages so it is required to check if the edge should receive or not the message\n",
    "                    Iterator.empty\n",
    "                else\n",
    "                    Iterator((destinationId, List(msg)))\n",
    "            }\n",
    "            else{\n",
    "                val msg = computeMessageToVariable(sourceId, sourceNode, destinationId, triplet.attr)\n",
    "                //stringAccum += sourceId + \" \" + destinationId + \" \" + msg + \"\\n\"\n",
    "                if(msg == null)\n",
    "                    Iterator.empty\n",
    "                else\n",
    "                    Iterator((destinationId, List(msg)))\n",
    "            }\n",
    "        }   \n",
    "    } \n",
    "}"
   ]
  },
  {
   "cell_type": "code",
   "execution_count": 53,
   "metadata": {},
   "outputs": [
    {
     "data": {
      "text/plain": [
       "stringAccum = \n"
      ]
     },
     "metadata": {},
     "output_type": "display_data"
    },
    {
     "data": {
      "text/plain": [
       "warning: there was one deprecation warning; re-run with -deprecation for details\n"
      ]
     },
     "metadata": {},
     "output_type": "display_data"
    }
   ],
   "source": [
    "stringAccum = sc.accumulator(\"\")(StringAccumulatorParam)"
   ]
  },
  {
   "cell_type": "code",
   "execution_count": 54,
   "metadata": {},
   "outputs": [
    {
     "data": {
      "text/plain": [
       "initialMsg = List(Message(-1,(-1.0,-1.0),-1))\n",
       "maxIterations = 20\n",
       "finalGraph = org.apache.spark.graphx.impl.GraphImpl@1afe852\n"
      ]
     },
     "metadata": {},
     "output_type": "display_data"
    },
    {
     "data": {
      "text/plain": [
       "org.apache.spark.graphx.impl.GraphImpl@1afe852"
      ]
     },
     "execution_count": 54,
     "metadata": {},
     "output_type": "execute_result"
    }
   ],
   "source": [
    "val initialMsg = List(Message(-1, (-1, -1), -1))\n",
    "val maxIterations = ((variablesNumber+factorsNumber)*2).toInt\n",
    "val finalGraph = graphWithLeaves.pregel(initialMsg, maxIterations, EdgeDirection.Out)(vprog, sendMsg, mergeMsg)"
   ]
  },
  {
   "cell_type": "code",
   "execution_count": 55,
   "metadata": {},
   "outputs": [
    {
     "name": "stdout",
     "output_type": "stream",
     "text": [
      "(4,1,1)\n",
      "(0,1,1)\n",
      "(8,2,2)\n",
      "(1,2,2)\n",
      "(9,1,1)\n",
      "(5,2,2)\n",
      "(6,3,3)\n",
      "(2,2,2)\n",
      "(3,3,3)\n",
      "(7,1,1)\n"
     ]
    },
    {
     "data": {
      "text/plain": [
       "temp = MapPartitionsRDD[203] at map at <console>:38\n"
      ]
     },
     "metadata": {},
     "output_type": "display_data"
    },
    {
     "data": {
      "text/plain": [
       "MapPartitionsRDD[203] at map at <console>:38"
      ]
     },
     "execution_count": 55,
     "metadata": {},
     "output_type": "execute_result"
    }
   ],
   "source": [
    "val temp = finalGraph.vertices.map(x => (x._1, x._2.messages.size, x._2.neighbors))\n",
    "temp.collect().foreach(println)"
   ]
  },
  {
   "cell_type": "code",
   "execution_count": 56,
   "metadata": {},
   "outputs": [],
   "source": [
    "println(stringAccum)"
   ]
  },
  {
   "cell_type": "code",
   "execution_count": 57,
   "metadata": {
    "scrolled": true
   },
   "outputs": [
    {
     "data": {
      "text/plain": [
       "newTupleWithoutLog: (tuple: (Double, Double))(Double, Double, Double)\n",
       "newTupleWithLog: (tuple: (Double, Double))(Double, Double, Double)\n",
       "newTuple: (tuple: (Double, Double))(Double, Double, Double)\n"
      ]
     },
     "metadata": {},
     "output_type": "display_data"
    },
    {
     "name": "stdout",
     "output_type": "stream",
     "text": [
      "(0,(0.5,0.5,0.05885441527446302))\n",
      "(1,(0.35766423357664234,0.6423357664233577,0.05885441527446301))\n",
      "(2,(0.2773722627737227,0.7226277372262774,0.05885441527446303))\n",
      "(3,(0.343065693430657,0.656934306569343,0.058854415274463015))\n",
      "(4,(0.6070559610705597,0.39294403892944035,0.058854415274463015))\n"
     ]
    }
   ],
   "source": [
    "def newTupleWithoutLog(tuple: (Double, Double)): (Double, Double, Double) = {\n",
    "    (tuple._1/(tuple._1+tuple._2), tuple._2/(tuple._1+tuple._2), tuple._1+tuple._2)\n",
    "}\n",
    "def newTupleWithLog(tuple: (Double, Double)): (Double, Double, Double) = {\n",
    "    (exp(tuple._1)/(exp(tuple._1)+exp(tuple._2)), exp(tuple._2)/(exp(tuple._1)+exp(tuple._2)), exp(tuple._1)+exp(tuple._2))\n",
    "}\n",
    "def newTuple(tuple: (Double, Double)): (Double, Double, Double) = {\n",
    "    if(withLog == true)\n",
    "        newTupleWithLog(tuple)\n",
    "    else\n",
    "        newTupleWithoutLog(tuple)\n",
    "}\n",
    "if(withLog == true)\n",
    "    finalGraph.vertices.filter(x => x._2.typeOfNode == 0).map(x => (x._1, newTuple(computeProductOfMessagesForVariableNode(x._2)))).sortByKey().collect().foreach(println)"
   ]
  },
  {
   "cell_type": "code",
   "execution_count": null,
   "metadata": {},
   "outputs": [],
   "source": []
  }
 ],
 "metadata": {
  "kernelspec": {
   "display_name": "Spark - Scala",
   "language": "scala",
   "name": "spark_scala"
  },
  "language_info": {
   "codemirror_mode": "text/x-scala",
   "file_extension": ".scala",
   "mimetype": "text/x-scala",
   "name": "scala",
   "pygments_lexer": "scala",
   "version": "2.11.12"
  }
 },
 "nbformat": 4,
 "nbformat_minor": 2
}
