{
 "cells": [
  {
   "cell_type": "code",
   "execution_count": 1,
   "metadata": {},
   "outputs": [],
   "source": [
    "import org.apache.spark._\n",
    "import org.apache.spark.graphx._\n",
    "import org.apache.spark.rdd.RDD"
   ]
  },
  {
   "cell_type": "code",
   "execution_count": 2,
   "metadata": {},
   "outputs": [
    {
     "data": {
      "text/plain": [
       "defined class Message\n",
       "defined class Node\n"
      ]
     },
     "metadata": {},
     "output_type": "display_data"
    }
   ],
   "source": [
    "case class Message(source: Long, value: (Double, Double), destPosInDistribution: Int)\n",
    "case class Node(typeOfNode: Int, neighbors: Int, distribution: Array[Double], messages: List[Message], firstDestination: Long)"
   ]
  },
  {
   "cell_type": "code",
   "execution_count": 3,
   "metadata": {},
   "outputs": [
    {
     "data": {
      "text/plain": [
       "fileName = ../data/input.txt\n",
       "lines = Array(5 5, 0 1, 0.25 0.25 0.25 0.25, 1 2 3, 0.16706443914081145 0.01909307875894988 0.18138424821002386 0.1431980906921241 0.02386634844868735 0.15513126491646778 0.07159904534606205 0.2386634844868735, 2, 0.4 0.6, 3 4, 0.20 0.30 0.40 0.10, 3, 0.25 0.75)\n",
       "variablesNumber = 5\n",
       "factorsNumber = 5\n",
       "variablesNumber = 5\n",
       "factorsNumber = 5\n",
       "tempNodes = Array((0,Node(0,0,null,List(),-1)), (1,Node(0,0,null,List(),-1)), (2,Node(0,0,null,List(),-1)), (3,Node(0,0,null,List(),-1)), (4,Node(0,0,null,List(),-1)), (5,Node(1,0,[D@387ecba5,List(),-1)), (6,Node(1,0,[D@16f1200f,List(),-1)), (7,Node(1,0,[D@50f59dc1,List(),-1)), (8,Node(1,0,[D@28fdc538,List(),-1)), (9,Node(1,0,[D@66100061,List(),-1)))\n"
      ]
     },
     "metadata": {},
     "output_type": "display_data"
    },
    {
     "data": {
      "text/plain": [
       "tempEdge...\n"
      ]
     },
     "metadata": {},
     "output_type": "display_data"
    },
    {
     "data": {
      "text/plain": [
       "Array((0,Node(0,0,null,List(),-1)), (1,Node(0,0,null,List(),-1)), (2,Node(0,0,null,List(),-1)), (3,Node(0,0,null,List(),-1)), (4,Node(0,0,null,List(),-1)), (5,Node(1,0,[D@387ecba5,List(),-1)), (6,Node(1,0,[D@16f1200f,List(),-1)), (7,Node(1,0,[D@50f59dc1,List(),-1)), (8,Node(1,0,[D@28fdc538,List(),-1)), (9,Node(1,0,[D@66100061,List(),-1)))"
      ]
     },
     "execution_count": 3,
     "metadata": {},
     "output_type": "execute_result"
    },
    {
     "name": "stdout",
     "output_type": "stream",
     "text": [
      "domani\n",
      "domani\n",
      "domani\n",
      "domani\n",
      "domani\n",
      "domani\n",
      "domani\n",
      "domani\n",
      "domani\n",
      "domani\n",
      "domani\n",
      "domani\n",
      "domani\n",
      "domani\n",
      "domani\n",
      "domani\n",
      "domani\n",
      "domani\n",
      "domani\n",
      "domani\n",
      "domani\n"
     ]
    }
   ],
   "source": [
    "val fileName = \"../data/input.txt\"\n",
    "var lines = sc.textFile(fileName).collect()\n",
    "var variablesNumber: Long = 0\n",
    "var factorsNumber: Long = 0\n",
    "variablesNumber = lines(0).split(\" \")(0).toLong\n",
    "factorsNumber = lines(0).split(\" \")(1).toLong\n",
    "var tempNodes: Array[(Long, Node)] = new Array[(Long, Node)]((variablesNumber+factorsNumber).toInt) // (id, (type, leaf, distribution))\n",
    "for (a <- 0 to (variablesNumber+factorsNumber - 1).toInt){\n",
    "    tempNodes(a) = (a.toLong, Node(0,0, null, List[Message](), -1))\n",
    "}\n",
    "var tempEdges: Array[Edge[(Int)]] = new Array[Edge[(Int)]](((variablesNumber+factorsNumber-1)*2).toInt)\n",
    "var cont = 0\n",
    "for (a <- 1 to lines.size-1){\n",
    "    if(a%2 == 1){\n",
    "        val factorNode = variablesNumber + ((a-1)/2).toLong\n",
    "        var pos = 0\n",
    "        for (variableNode <- lines(a).split(\" \")){\n",
    "            tempEdges(cont) = Edge(variableNode.toLong, factorNode, pos)\n",
    "            cont = cont + 1\n",
    "            tempEdges(cont) = Edge(factorNode, variableNode.toLong, pos)\n",
    "            cont = cont + 1\n",
    "            pos = pos + 1\n",
    "        } \n",
    "    }else{\n",
    "        val distribution:  Array[Double] = lines(a).split(\" \").map(_.toDouble)\n",
    "        val factorNode = (variablesNumber + ((a-1)/2).toLong).toInt\n",
    "        tempNodes(factorNode) = (factorNode, Node(1, 0, distribution, List[Message](), -1))\n",
    "    }\n",
    "}"
   ]
  },
  {
   "cell_type": "code",
   "execution_count": 4,
   "metadata": {},
   "outputs": [
    {
     "data": {
      "text/plain": [
       "nodes = ParallelCollectionRDD[2] at parallelize at <console>:39\n",
       "edges = ParallelCollectionRDD[3] at parallelize at <console>:40\n",
       "graph = org.apache.spark.graphx.impl.GraphImpl@4917d70a\n"
      ]
     },
     "metadata": {},
     "output_type": "display_data"
    },
    {
     "data": {
      "text/plain": [
       "org.apache.spark.graphx.impl.GraphImpl@4917d70a"
      ]
     },
     "execution_count": 4,
     "metadata": {},
     "output_type": "execute_result"
    }
   ],
   "source": [
    "val nodes: RDD[(VertexId, Node)] = sc.parallelize(tempNodes)\n",
    "val edges: RDD[Edge[Int]] = sc.parallelize(tempEdges)\n",
    "val graph = Graph(nodes, edges)"
   ]
  },
  {
   "cell_type": "code",
   "execution_count": 21,
   "metadata": {},
   "outputs": [
    {
     "name": "stdout",
     "output_type": "stream",
     "text": [
      "(4,Node(0,1,null,List(),-1))\n",
      "(0,Node(0,1,null,List(),-1))\n",
      "(8,Node(1,2,[D@190386eb,List(),-1))\n",
      "(1,Node(0,2,null,List(),-1))\n",
      "(9,Node(1,1,[D@1c9d1142,List(),-1))\n",
      "(5,Node(1,2,[D@1902c211,List(),-1))\n",
      "(6,Node(1,3,[D@7bf69645,List(),-1))\n",
      "(2,Node(0,2,null,List(),-1))\n",
      "(3,Node(0,3,null,List(),-1))\n",
      "(7,Node(1,1,[D@1701dbd,List(),-1))\n"
     ]
    },
    {
     "data": {
      "text/plain": [
       "inDegrees = VertexRDDImpl[19] at RDD at VertexRDD.scala:57\n",
       "graphWithLeaves = org.apache.spark.graphx.impl.GraphImpl@75131bd0\n"
      ]
     },
     "metadata": {},
     "output_type": "display_data"
    },
    {
     "data": {
      "text/plain": [
       "org.apache.spark.graphx.impl.GraphImpl@75131bd0"
      ]
     },
     "execution_count": 21,
     "metadata": {},
     "output_type": "execute_result"
    }
   ],
   "source": [
    "val inDegrees: VertexRDD[Int] = graph.inDegrees\n",
    "//leaves.collect().foreach(println)\n",
    "val graphWithLeaves = graph.joinVertices(inDegrees){\n",
    " case (id, node, neighbors) =>  Node(node.typeOfNode, neighbors, node.distribution, node.messages, node.firstDestination)\n",
    "}\n",
    "//graphWithLeaves.vertices.collect().foreach(println)"
   ]
  },
  {
   "cell_type": "code",
   "execution_count": 6,
   "metadata": {},
   "outputs": [
    {
     "data": {
      "text/plain": [
       "getValueFromDistribution: (distribution: Array[Double], pos: Array[Int])Double\n"
      ]
     },
     "metadata": {},
     "output_type": "display_data"
    }
   ],
   "source": [
    "def getValueFromDistribution(distribution: Array[Double], pos: Array[Int]): Double = {\n",
    "    var index: Int = 0\n",
    "    var cont: Int = 1\n",
    "    for(i <- pos){\n",
    "        index = index + cont*i\n",
    "        cont = cont * 2\n",
    "    }\n",
    "    distribution(index)\n",
    "}"
   ]
  },
  {
   "cell_type": "code",
   "execution_count": 7,
   "metadata": {},
   "outputs": [
    {
     "data": {
      "text/plain": [
       "computeProductOfMessagesForVariableNode: (sourceNode: Node)(Double, Double)\n"
      ]
     },
     "metadata": {},
     "output_type": "display_data"
    }
   ],
   "source": [
    "def computeProductOfMessagesForVariableNode(sourceNode: Node): (Double, Double) = {\n",
    "    var product: (Double, Double) = (1,1)\n",
    "    for(msg <- sourceNode.messages){\n",
    "        product = (product._1*msg.value._1, product._2*msg.value._2)\n",
    "    }\n",
    "    product\n",
    "}"
   ]
  },
  {
   "cell_type": "code",
   "execution_count": 78,
   "metadata": {},
   "outputs": [
    {
     "data": {
      "text/plain": [
       "checkDestination: (messages: List[Message], destinationId: Long)Boolean\n"
      ]
     },
     "metadata": {},
     "output_type": "display_data"
    }
   ],
   "source": [
    "def checkDestination(messages: List[Message], destinationId: Long): Boolean = {\n",
    "    var ctrl = true\n",
    "    for(msg <- messages){\n",
    "        if(msg.source == destinationId)\n",
    "            ctrl = false\n",
    "    }\n",
    "    ctrl\n",
    "}"
   ]
  },
  {
   "cell_type": "code",
   "execution_count": 79,
   "metadata": {},
   "outputs": [
    {
     "data": {
      "text/plain": [
       "computeMessageToFactor: (sourceId: Long, sourceNode: Node, destinationId: Long, destPosInDistribution: Int)Message\n"
      ]
     },
     "metadata": {},
     "output_type": "display_data"
    }
   ],
   "source": [
    "def computeMessageToFactor(sourceId: Long, sourceNode: Node, destinationId: Long, destPosInDistribution: Int): Message = {\n",
    "    if(sourceNode.messages.size == sourceNode.neighbors - 1){\n",
    "        if(checkDestination(sourceNode.messages, destinationId))\n",
    "            Message(sourceId, computeProductOfMessagesForVariableNode(sourceNode), destPosInDistribution)\n",
    "        else\n",
    "            null\n",
    "    }else if(sourceNode.messages.size == sourceNode.neighbors){\n",
    "        val product: (Double, Double) = computeProductOfMessagesForVariableNode(sourceNode)\n",
    "        if(destinationId == sourceNode.firstDestination)\n",
    "            null\n",
    "        else{\n",
    "            for(msg <- sourceNode.messages){\n",
    "                if(msg.source == destinationId){\n",
    "                    Message(sourceId, (product._1/msg.value._1, product._2/msg.value._2), destPosInDistribution)\n",
    "                }\n",
    "            }\n",
    "            null //should not happen\n",
    "        }\n",
    "    }else{\n",
    "        null\n",
    "    }\n",
    "}"
   ]
  },
  {
   "cell_type": "code",
   "execution_count": 80,
   "metadata": {},
   "outputs": [
    {
     "data": {
      "text/plain": [
       "computeProductOfMessagesForFactorNode: (factorNode: Node, destinationId: Long, states: Array[Int])Double\n"
      ]
     },
     "metadata": {},
     "output_type": "display_data"
    }
   ],
   "source": [
    "def computeProductOfMessagesForFactorNode(factorNode: Node, destinationId: Long, states: Array[Int]): Double = {\n",
    "    var product: Double = 1\n",
    "    for(msg <- factorNode.messages){\n",
    "        if(msg.source != destinationId){\n",
    "            if(states(msg.destPosInDistribution) == 0)\n",
    "                product = product * msg.value._1\n",
    "            else\n",
    "                product = product * msg.value._2\n",
    "        }\n",
    "    }\n",
    "    product\n",
    "}"
   ]
  },
  {
   "cell_type": "code",
   "execution_count": 81,
   "metadata": {},
   "outputs": [
    {
     "data": {
      "text/plain": [
       "computeMessageToVariableSummation: (pos: Int, factorNode: Node, destinationId: Long, states: Array[Int], destPosInDistribution: Int)Double\n"
      ]
     },
     "metadata": {},
     "output_type": "display_data"
    }
   ],
   "source": [
    "def computeMessageToVariableSummation(pos: Int, factorNode: Node, destinationId: Long, states: Array[Int], destPosInDistribution: Int): Double = {\n",
    "    if(pos == factorNode.neighbors)\n",
    "        getValueFromDistribution(factorNode.distribution, states)*computeProductOfMessagesForFactorNode(factorNode, destinationId, states)\n",
    "    else{\n",
    "        if(pos == destPosInDistribution)\n",
    "            computeMessageToVariableSummation(pos+1, factorNode, destinationId, states, destPosInDistribution)\n",
    "        else{\n",
    "            var temp: Double = 0\n",
    "            states(pos) = 0\n",
    "            temp = temp + computeMessageToVariableSummation(pos+1, factorNode, destinationId, states, destPosInDistribution)\n",
    "            states(pos) = 1\n",
    "            temp = temp + computeMessageToVariableSummation(pos+1, factorNode, destinationId, states, destPosInDistribution)\n",
    "            states(pos) = -1\n",
    "            temp\n",
    "        }\n",
    "    }\n",
    "}"
   ]
  },
  {
   "cell_type": "code",
   "execution_count": 82,
   "metadata": {},
   "outputs": [
    {
     "data": {
      "text/plain": [
       "computeMessageToVariable2: (sourceId: Long, sourceNode: Node, destinationId: Long, destPosInDistribution: Int)(Double, Double)\n"
      ]
     },
     "metadata": {},
     "output_type": "display_data"
    }
   ],
   "source": [
    "def computeMessageToVariable2(sourceId: Long, sourceNode: Node, destinationId: Long, destPosInDistribution: Int): (Double, Double) = {\n",
    "    var result: (Double, Double) = (0,0)\n",
    "    var states = Array.fill[Int](sourceNode.neighbors)(-1)\n",
    "    states(destPosInDistribution) = 0\n",
    "    result = (computeMessageToVariableSummation(0, sourceNode, destinationId, states, destPosInDistribution), 0)\n",
    "    states(destPosInDistribution) = 1\n",
    "    result = (result._1, computeMessageToVariableSummation(0, sourceNode, destinationId, states, destPosInDistribution))\n",
    "    result\n",
    "}\n",
    "    \n"
   ]
  },
  {
   "cell_type": "code",
   "execution_count": 83,
   "metadata": {},
   "outputs": [
    {
     "data": {
      "text/plain": [
       "computeMessageToVariable: (sourceId: Long, sourceNode: Node, destinationId: Long, destPosInDistribution: Int)Message\n"
      ]
     },
     "metadata": {},
     "output_type": "display_data"
    }
   ],
   "source": [
    "def computeMessageToVariable(sourceId: Long, sourceNode: Node, destinationId: Long, destPosInDistribution: Int): Message = {\n",
    "    if(sourceNode.messages.size == sourceNode.neighbors - 1){\n",
    "        if(checkDestination(sourceNode.messages, destinationId))\n",
    "            Message(sourceId, computeMessageToVariable2(sourceId, sourceNode, destinationId, destPosInDistribution), -1)\n",
    "        else\n",
    "            null\n",
    "    }else if(sourceNode.messages.size == sourceNode.neighbors){\n",
    "        if(destinationId == sourceNode.firstDestination)\n",
    "            null\n",
    "        else{\n",
    "            Message(sourceId, computeMessageToVariable2(sourceId, sourceNode, destinationId, destPosInDistribution), -1)\n",
    "        }\n",
    "        null //should not happen\n",
    "    }else{\n",
    "        null\n",
    "    }\n",
    "}"
   ]
  },
  {
   "cell_type": "code",
   "execution_count": 84,
   "metadata": {},
   "outputs": [
    {
     "data": {
      "text/plain": [
       "defined object StringAccumulatorParam\n",
       "stringAccum = \n"
      ]
     },
     "metadata": {},
     "output_type": "display_data"
    },
    {
     "data": {
      "text/plain": [
       "warning: there were two deprecation warnings; re-run with -deprecation for details\n"
      ]
     },
     "metadata": {},
     "output_type": "display_data"
    }
   ],
   "source": [
    "import org.apache.spark.AccumulatorParam\n",
    "\n",
    "object StringAccumulatorParam extends AccumulatorParam[String] {\n",
    "\n",
    "    def zero(initialValue: String): String = {\n",
    "        \"\"\n",
    "    }\n",
    "\n",
    "    def addInPlace(s1: String, s2: String): String = {\n",
    "        s\"$s1 $s2\"\n",
    "    }\n",
    "}\n",
    "\n",
    "val stringAccum = sc.accumulator(\"\")(StringAccumulatorParam)"
   ]
  },
  {
   "cell_type": "code",
   "execution_count": 85,
   "metadata": {},
   "outputs": [
    {
     "data": {
      "text/plain": [
       "mergeMsg: (msg1: List[Message], msg2: List[Message])List[Message]\n"
      ]
     },
     "metadata": {},
     "output_type": "display_data"
    }
   ],
   "source": [
    "def mergeMsg(msg1: List[Message], msg2: List[Message]): List[Message] = {\n",
    "    msg1:::msg2\n",
    "}"
   ]
  },
  {
   "cell_type": "code",
   "execution_count": 86,
   "metadata": {},
   "outputs": [
    {
     "data": {
      "text/plain": [
       "vprog: (vertexId: org.apache.spark.graphx.VertexId, value: Node, message: List[Message])Node\n"
      ]
     },
     "metadata": {},
     "output_type": "display_data"
    }
   ],
   "source": [
    "def vprog(vertexId: VertexId, value: Node, message: List[Message]): Node = {\n",
    "    if(message.head.source == -1){\n",
    "        Node(value.typeOfNode, value.neighbors, value.distribution, value.messages, value.firstDestination)\n",
    "    }\n",
    "    else{\n",
    "       \n",
    "        val newMessages = value.messages:::message\n",
    "        var firstDestination: Long = -1\n",
    "        if(value.messages.size == value.neighbors && message.size == 1)\n",
    "            firstDestination = message.head.source\n",
    "        Node(value.typeOfNode, value.neighbors, value.distribution, newMessages, firstDestination)\n",
    "    }\n",
    "}"
   ]
  },
  {
   "cell_type": "code",
   "execution_count": 87,
   "metadata": {},
   "outputs": [
    {
     "data": {
      "text/plain": [
       "sendMsg: (triplet: org.apache.spark.graphx.EdgeTriplet[Node,Int])Iterator[(org.apache.spark.graphx.VertexId, List[Message])]\n"
      ]
     },
     "metadata": {},
     "output_type": "display_data"
    }
   ],
   "source": [
    "//tofix\n",
    "def sendMsg(triplet: EdgeTriplet[Node, Int]): Iterator[(VertexId, List[Message])] = {\n",
    "    val sourceId = triplet.srcId\n",
    "    val sourceNode = triplet.srcAttr\n",
    "    val destinationId = triplet.dstId\n",
    "    if(sourceNode.messages.size == 0){\n",
    "        if(sourceNode.neighbors == 1){\n",
    "            if(sourceNode.typeOfNode == 0)\n",
    "                Iterator((destinationId, List(Message(sourceId, (1,1), triplet.attr))))\n",
    "            else\n",
    "                Iterator((destinationId, List(Message(sourceId, (getValueFromDistribution(sourceNode.distribution, Array(0)), getValueFromDistribution(sourceNode.distribution, Array(1))), -1))))\n",
    "        }else{\n",
    "            Iterator.empty\n",
    "        }\n",
    "    }else{\n",
    "        if(sourceNode.neighbors == 1){\n",
    "            Iterator.empty\n",
    "        }else{\n",
    "            if(sourceNode.typeOfNode == 0){\n",
    "                val msg = computeMessageToFactor(sourceId, sourceNode, destinationId, triplet.attr)\n",
    "                //stringAccum += sourceId + \" \" + destinationId + \" \" + msg + \"\\n\"\n",
    "                if(msg == null)\n",
    "                    Iterator.empty\n",
    "                else\n",
    "                    Iterator((destinationId, List(msg)))\n",
    "            }\n",
    "            else{\n",
    "                val msg = computeMessageToVariable(sourceId, sourceNode, destinationId, triplet.attr)\n",
    "                //stringAccum += sourceId + \" \" + destinationId + \" \" + msg + \"\\n\"\n",
    "                if(msg == null)\n",
    "                    Iterator.empty\n",
    "                else\n",
    "                    Iterator((destinationId, List(msg)))\n",
    "            }\n",
    "        }\n",
    "        \n",
    "    }\n",
    "    \n",
    "  \n",
    "}"
   ]
  },
  {
   "cell_type": "code",
   "execution_count": 88,
   "metadata": {},
   "outputs": [
    {
     "data": {
      "text/plain": [
       "initialMsg = List(Message(-1,(-1.0,-1.0),-1))\n",
       "maxIterations = 20\n",
       "finalGraph = org.apache.spark.graphx.impl.GraphImpl@291a211\n"
      ]
     },
     "metadata": {},
     "output_type": "display_data"
    },
    {
     "data": {
      "text/plain": [
       "org.apache.spark.graphx.impl.GraphImpl@291a211"
      ]
     },
     "execution_count": 88,
     "metadata": {},
     "output_type": "execute_result"
    }
   ],
   "source": [
    "val initialMsg = List(Message(-1, (-1, -1), -1))\n",
    "val maxIterations = ((variablesNumber+factorsNumber)*2).toInt\n",
    "val finalGraph = graphWithLeaves.pregel(initialMsg, maxIterations, EdgeDirection.Out)(vprog, sendMsg, mergeMsg)"
   ]
  },
  {
   "cell_type": "code",
   "execution_count": 89,
   "metadata": {},
   "outputs": [
    {
     "name": "stdout",
     "output_type": "stream",
     "text": [
      "(4,0,1)\n",
      "(0,0,1)\n",
      "(8,1,2)\n",
      "(1,1,2)\n",
      "(9,0,1)\n",
      "(5,1,2)\n",
      "(6,3,3)\n",
      "(2,1,2)\n",
      "(3,2,3)\n",
      "(7,0,1)\n"
     ]
    },
    {
     "data": {
      "text/plain": [
       "temp = MapPartitionsRDD[347] at map at <console>:42\n"
      ]
     },
     "metadata": {},
     "output_type": "display_data"
    },
    {
     "data": {
      "text/plain": [
       "MapPartitionsRDD[347] at map at <console>:42"
      ]
     },
     "execution_count": 89,
     "metadata": {},
     "output_type": "execute_result"
    }
   ],
   "source": [
    "val temp = finalGraph.vertices.map(x => (x._1, x._2.messages.size, x._2.neighbors))\n",
    "temp.collect().foreach(println)"
   ]
  },
  {
   "cell_type": "code",
   "execution_count": 90,
   "metadata": {},
   "outputs": [],
   "source": [
    "println(stringAccum)"
   ]
  },
  {
   "cell_type": "code",
   "execution_count": null,
   "metadata": {},
   "outputs": [],
   "source": []
  }
 ],
 "metadata": {
  "kernelspec": {
   "display_name": "Spark - Scala",
   "language": "scala",
   "name": "spark_scala"
  },
  "language_info": {
   "codemirror_mode": "text/x-scala",
   "file_extension": ".scala",
   "mimetype": "text/x-scala",
   "name": "scala",
   "pygments_lexer": "scala",
   "version": "2.11.12"
  }
 },
 "nbformat": 4,
 "nbformat_minor": 2
}
